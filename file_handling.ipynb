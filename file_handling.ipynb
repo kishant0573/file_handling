{
  "nbformat": 4,
  "nbformat_minor": 0,
  "metadata": {
    "colab": {
      "provenance": []
    },
    "kernelspec": {
      "name": "python3",
      "display_name": "Python 3"
    },
    "language_info": {
      "name": "python"
    }
  },
  "cells": [
    {
      "cell_type": "markdown",
      "source": [
        "# theory question"
      ],
      "metadata": {
        "id": "rNuWRnGJcV02"
      }
    },
    {
      "cell_type": "markdown",
      "source": [
        "#1.what is the difference between interpreted and compiled languages?\n",
        "\n",
        "interpreted languages execute code line by line, making debugging easier but slower in execution. examples include python and javascript. compiled languages convert the entire code into machine language before execution, making them faster but harder to debug. examples include c and c++.\n",
        "\n",
        "**example:**\n",
        "```python\n",
        "# interpreted language example\n",
        "def greet():\n",
        "    print(\"hello, world!\")\n",
        "greet()\n",
        "```\n",
        "\n",
        "```c\n",
        "// compiled language example\n",
        "#include <stdio.h>\n",
        "int main() {\n",
        "    printf(\"hello, world!\\n\");\n",
        "    return 0;\n",
        "}\n",
        "```\n",
        "\n",
        "output:\n",
        "```\n",
        "hello, world!\n",
        "```\n",
        "\n",
        "---\n",
        "\n",
        "#2. what is exception handling in python?\n",
        "\n",
        "exception handling in Python is a crucial mechanism that helps manage runtime errors, ensuring that a program does not crash unexpectedly. It allows developers to anticipate potential errors, handle them gracefully, and maintain the program’s stability.\n",
        "\n",
        "\n",
        "    try Block:\n",
        "        -this block contains the code that might raise an exception.\n",
        "        -if an error occurs within this block, Python immediately stops execution and looks for an appropriate except block.\n",
        "\n",
        "    except Block:\n",
        "        This block is executed when an exception occurs in the try block.\n",
        "        It helps in catching specific errors and executing alternative code to handle the issue.\n",
        "\n",
        "    else Block (Optional):\n",
        "        This block runs only if no exceptions occur in the try block.\n",
        "        It is useful for writing code that should execute only when there are no errors.\n",
        "\n",
        "    finally Block (Optional):\n",
        "        This block is always executed, regardless of whether an exception occurs or not.\n",
        "        It is typically used for cleanup operations, such as closing files or releasing resources.\n",
        "\n",
        "**example:**\n",
        "```python\n",
        "try:\n",
        "    num1 = int(input(\"enter a number: \"))\n",
        "    num2 = int(input(\"enter 2nd number : \"))\n",
        "    result = num1 / num2  \n",
        "except ZeroDivisionError:\n",
        "    print(\"cannot divide by zero.\")\n",
        "except ValueError:\n",
        "    print(\"error: invalid input. please enter a number.\")\n",
        "else:\n",
        "    print(\"the result is:\", result)\n",
        "finally:\n",
        "    print(\"execution completed.\")\n",
        "\n",
        "```\n",
        "\n",
        "**output:**\n",
        "     cannot divide by zero.\n",
        "---\n",
        "\n",
        "#3.what is the purpose of the finally block in exception handling?\n",
        "\n",
        "`finally` ensures code runs no matter what, even if an exception occurs. it is commonly used for cleanup operations like closing files or database connections.\n",
        "\n",
        "**example:**\n",
        "```python\n",
        "try:\n",
        "    f = open(\"file.txt\", \"r\")\n",
        "except FileNotFoundError:\n",
        "    print(\"file not found\")\n",
        "finally:\n",
        "    print(\"execution completed\")\n",
        "```\n",
        "\n",
        "**output:**\n",
        "```\n",
        "file not found\n",
        "execution completed\n",
        "```\n",
        "\n",
        "---\n",
        "\n",
        "#4.what is logging in python?\n",
        "\n",
        "logging helps track events in a program and is useful for debugging and monitoring. the `logging` module provides various logging levels like debug, info, warning, error, and critical.\n",
        "\n",
        "**example:**\n",
        "```python\n",
        "import logging\n",
        "logging.basicConfig(level=logging.INFO)\n",
        "logging.info(\"this is an info message\")\n",
        "```\n",
        "\n",
        "**output:**\n",
        "```\n",
        "INFO:root:this is an info message\n",
        "```\n",
        "\n",
        "---\n",
        "\n",
        "#5.what is the significance of the __del__ method in python?\n",
        "\n",
        "`__del__` is a destructor method called when an object is deleted or goes out of scope. it helps in resource management like closing files or releasing memory.\n",
        "\n",
        "**example:**\n",
        "```python\n",
        "class Demo:\n",
        "    def __del__(self):\n",
        "        print(\"object is being deleted\")\n",
        "\n",
        "obj = Demo()\n",
        "del obj\n",
        "```\n",
        "\n",
        "**output:**\n",
        "```\n",
        "object is being deleted\n",
        "```\n",
        "\n",
        "---\n",
        "\n",
        "#6.what is the difference between import and from ... import in python?\n",
        "\n",
        "- `import module_name` imports the entire module, requiring `module_name.function()` to access functions.\n",
        "- `from module_name import function_name` imports only specific functions, allowing direct use.\n",
        "\n",
        "**example:**\n",
        "```python\n",
        "import math\n",
        "print(math.sqrt(16))\n",
        "\n",
        "from math import sqrt\n",
        "print(sqrt(16))\n",
        "```\n",
        "\n",
        "**output:**\n",
        "```\n",
        "4.0\n",
        "4.0\n",
        "```\n",
        "\n",
        "---\n",
        "\n",
        "# **7. How can you handle multiple exceptions in Python?**  \n",
        "\n",
        "in python, you can handle multiple exceptions using either multiple `except` blocks or a single `except` statement with a tuple of exceptions. This ensures that different types of errors can be managed properly without crashing the program.  \n",
        "\n",
        "### **using multiple `except` Blocks:**  \n",
        "you can define multiple `except` blocks to handle different types of exceptions separately.  \n",
        "\n",
        "```python\n",
        "try:\n",
        "    num = int(input('enter a number: \"))  \n",
        "    result = 10 / num  \n",
        "except ValueError:\n",
        "    print(\"error: invalid input. please enter a valid number.\")\n",
        "except ZeroDivisionError:\n",
        "    print(\"error: cannot divide by zero.\")\n",
        "```\n",
        "\n",
        "### **using a Single `except` with a Tuple:**  \n",
        "can also catch multiple exceptions in a single `except` block by specifying them as a tuple.  \n",
        "\n",
        "```python\n",
        "try:\n",
        "    num = int(input(\"Enter a number: \"))  \n",
        "    result = 10 / num  \n",
        "except (ValueError, ZeroDivisionError) as e:\n",
        "    print(f\"Error occurred: {e}\")\n",
        "```\n",
        "\n",
        "### **key Differences:**  \n",
        "- **multiple `except` blocks** allow handling each exception differently.  \n",
        "- **a single `except` with a tuple** provides a concise way to catch multiple exceptions in one place.  \n",
        "\n",
        "---\n",
        "\n",
        "#8.what is the purpose of the with statement when handling files in python?\n",
        "in python, when working with files, it is essential to open and close them properly to avoid resource leaks and potential data corruption. Normally, when using the open() function, you must manually call close() to release system resources. However, forgetting to close a file can lead to issues, especially when working with multiple files or handling exceptions.\n",
        "\n",
        "The with statement provides a cleaner and more efficient way to handle files. It ensures that the file is automatically closed once the block of code inside with is executed, even if an exception occurs.\n",
        "\n",
        "**example:**\n",
        "```python\n",
        "with open(\"data.txt\", \"r\") as file:\n",
        "    content = file.read()\n",
        "print(\"file read successfully\")\n",
        "```\n",
        "\n",
        "---\n",
        "\n",
        "# **9. What is the difference between multithreading and multiprocessing?**  \n",
        "\n",
        "Multithreading and multiprocessing are two techniques used to achieve concurrency in Python, but they work differently and are suitable for different types of tasks.  \n",
        "\n",
        "### **Multithreading**  \n",
        "Multithreading allows multiple threads to run within the same process. Since threads share the same memory space, they can communicate easily with each other, but they also compete for the same resources. Python’s **Global Interpreter Lock (GIL)** prevents multiple threads from executing Python bytecode simultaneously, which makes multithreading less effective for CPU-bound tasks. However, it is beneficial for **I/O-bound operations** such as:  \n",
        "\n",
        "- File reading and writing  \n",
        "- Network requests  \n",
        "- Database operations  \n",
        "- GUI applications  \n",
        "\n",
        "### **Example of Multithreading:**  \n",
        "```python\n",
        "import threading  \n",
        "\n",
        "def print_numbers():  \n",
        "    for i in range(5):  \n",
        "        print(f\"Thread: {i}\")  \n",
        "\n",
        "thread = threading.Thread(target=print_numbers)  \n",
        "thread.start()  # Starts a new thread  \n",
        "\n",
        "print(\"Main thread continues execution.\")  \n",
        "```\n",
        "\n",
        "### **Multiprocessing**  \n",
        "Multiprocessing creates multiple independent processes, each with its own memory space. Since processes do not share memory, they avoid GIL limitations, making multiprocessing a better choice for **CPU-bound tasks** such as:  \n",
        "\n",
        "- Data processing  \n",
        "- Image or video processing  \n",
        "- Mathematical computations  \n",
        "\n",
        "Since each process runs independently, communication between processes requires **inter-process communication (IPC)** methods such as queues or pipes.  \n",
        "\n",
        "### **Example of Multiprocessing:**  \n",
        "```python\n",
        "import multiprocessing  \n",
        "\n",
        "def print_numbers():  \n",
        "    for i in range(5):  \n",
        "        print(f\"Process: {i}\")  \n",
        "\n",
        "process = multiprocessing.Process(target=print_numbers)  \n",
        "process.start()  # Starts a new process  \n",
        "\n",
        "print(\"Main process continues execution.\")  \n",
        "```  \n",
        "\n",
        "\n",
        "\n",
        "**example:**\n",
        "```python\n",
        "from threading import Thread\n",
        "from multiprocessing import Process\n",
        "\n",
        "def print_message():\n",
        "    print(\"hello from thread or process\")\n",
        "\n",
        "thread = Thread(target=print_message)\n",
        "process = Process(target=print_message)\n",
        "thread.start()\n",
        "process.start()\n",
        "```\n",
        "\n",
        "---\n",
        "\n",
        "#10.what are the advantages of using logging in a program?\n",
        "\n",
        "- helps debug issues\n",
        "- provides a record of events\n",
        "- can store logs in files for later analysis\n",
        "- allows different logging levels\n",
        "\n",
        "---\n",
        "\n",
        "# 11. What is memory management in Python?\n",
        "\n",
        "memory management in Python is handled automatically by the garbage collector. It takes care of allocating and deallocating memory for objects, ensuring that the program runs efficiently without manual intervention. Python uses a combination of **reference counting** and a **cyclic garbage collector** to free up memory occupied by objects that are no longer needed.  \n",
        "\n",
        "---  \n",
        "\n",
        "# 12. What are the basic steps involved in exception handling in Python?  \n",
        "\n",
        "exception handling in Python helps prevent programs from crashing when errors occur. The four main steps involved are:  \n",
        "\n",
        "1. **use `try` block** –  contains the code that might raise an exception.  \n",
        "2. **use `except` block** – this handles the exception if it occurs.  \n",
        "3. **use `else` block (optional)** – runs if no exception is raised in the `try` block.  \n",
        "4. **use `finally` block** – runs code that needs to execute regardless of an exception, such as cleanup operations.  \n",
        "\n",
        "### **Example:**\n",
        "```python\n",
        "try:\n",
        "    num = int(input(\"Enter a number: \"))\n",
        "    result = 10 / num  \n",
        "except ZeroDivisionError:\n",
        "    print(\"error: division by zero is not allowed.\")  \n",
        "except ValueError:\n",
        "    print(\"error invalid input. please enter a valid number.\")  \n",
        "else:\n",
        "    print(\"result:\", result)  \n",
        "finally:\n",
        "    print(\"execution completed.\")  \n",
        "\n",
        "```\n",
        "---\n",
        "\n",
        "#13.why is memory management important in python?\n",
        "\n",
        "Memory management is crucial in Python because it:\n",
        "\n",
        "    -Prevents memory leaks by automatically freeing unused memory.\n",
        "    -Optimizes performance by ensuring that memory is efficiently used.\n",
        "    -Reduces manual intervention since Python’s garbage collector handles most memory-related tasks.\n",
        "    -Ensures system stability, especially in large applications where memory leaks could cause crashes.\n",
        "\n",
        "\n",
        "---\n",
        "\n",
        "#14.what is the role of try and except in exception handling?\n",
        "\n",
        "`try` and `except` blocks are used to handle exceptions and prevent program crashes.\n",
        "\n",
        "    -the `try` block contains the code that may cause an error.\n",
        "    -the `except` block catches and handles the error when it occurs.\n",
        "\n",
        "```python\n",
        "try:\n",
        "    x = 5 / 0  \n",
        "except ZeroDivisionError:\n",
        "    print(\"Cannot divide by zero!\")  \n",
        "```\n",
        "---\n",
        "\n",
        "#15.how does python's garbage collection system work?\n",
        "\n",
        "python garbage collection system automatically manages memory allocation and deallocation using two key mechanisms:\n",
        "\n",
        "    -Reference Counting – Every object in Python has a reference count. When an object’s reference count drops to zero, it is immediately deleted.\n",
        "    -Cyclic Garbage Collector – Detects and removes circular references (where objects refer to each other but are no longer needed).\n",
        "\n",
        "---\n",
        "\n",
        "#16.what is the purpose of the else block in exception handling?\n",
        "\n",
        "the `else` block in exception handling is executed only if no exception occurs in the `try` block. it is used to run code that should only execute when the `try` block succeeds without errors. if an exception is raised in the `try` block, the `else` block is skipped, and the `except` block handles the error.\n",
        "\n",
        "example:\n",
        "**example:**\n",
        "```python\n",
        "try:\n",
        "    num = int(input(\"enter a number: \"))\n",
        "except ValueError:\n",
        "    print(\"invalid input\")\n",
        "else:\n",
        "    print(\"valid number\")\n",
        "```\n",
        "\n",
        "---\n",
        "\n",
        "#17. What are the common logging levels in Python?\n",
        "\n",
        "Python provides five standard logging levels:\n",
        "\n",
        "- DEBUG – Used for detailed information, typically useful for diagnosing - problems during development.\n",
        "-INFO – Used to confirm that things are working as expected.\n",
        "-WARNING – Indicates a potential issue that does not prevent the program from running but should be looked into.\n",
        "-ERROR – Indicates a problem that prevents part of the program from functioning correctly.\n",
        "-CRITICAL – Represents serious errors that may cause the entire application to crash.\n",
        "---\n",
        "\n",
        "#18.what is the importance of closing a file in python?\n",
        "\n",
        "closing a file is important because it ensures that system resources like memory and file handles are released properly. If a file is not closed after use, it can lead to memory leaks, file corruption, or issues with accessing the file from other programs. Using the close() method or a with open() statement ensures that files are closed automatically.\n",
        "\n",
        "---\n",
        "\n",
        "#19.what is the difference between file.read() and file.readline() in python?\n",
        "\n",
        "**read()**\n",
        "- the `read()` method reads the entire file content at once and returns it as a single string. This is useful when you want to load all data into memory at once.\n",
        "-when you need to process the whole file at once.\n",
        "-suitable for small files, as it loads everything into memory.\n",
        "\n",
        "**readline()**\n",
        "\n",
        " - the readline() method reads only a single line from the file each time it is called. If called multiple times, it reads the next line sequentially until the end of the file.\n",
        "\n",
        "- when reading large files where loading the entire content would use too much memory.\n",
        "\n",
        "- when processing files line by line, such as in log files or CSV parsing.\n",
        "\n",
        "---\n",
        "\n",
        "#20.how do you raise an exception manually in python?\n",
        "\n",
        "you can manually raise an exception using the raise keyword. This is useful when you want to enforce specific conditions in your program and signal an error when something goes wrong. Manually raising exceptions helps in debugging, enforcing validation, and ensuring correct program execution.\n",
        "\n",
        "**example:**\n",
        "```python\n",
        "raise ValueError(\"invalid value\")\n",
        "```\n",
        "\n",
        "**output:**\n",
        "```\n",
        "ValueError: invalid value\n",
        "```\n",
        "\n",
        "---\n",
        "\n",
        "#21.why is it important to use multithreading in certain applications?\n",
        "\n",
        "mßultithreading is useful in applications that involve multiple tasks that can run concurrently, especially for I/O-bound operations like file handling, network communication, and GUI applications. By using multiple threads, a program can continue executing other tasks while waiting for input/output operations to complete, improving overall responsiveness and efficiency. However, due to Python’s Global Interpreter Lock (GIL), multithreading is not ideal for CPU-bound tasks, where multiprocessing is a better choice.\n",
        "\n"
      ],
      "metadata": {
        "id": "Ld81XHH_df5j"
      }
    },
    {
      "cell_type": "markdown",
      "source": [
        "# Practical Question"
      ],
      "metadata": {
        "id": "hoZGR6Q3YEsm"
      }
    },
    {
      "cell_type": "code",
      "source": [
        "import logging\n",
        "import os"
      ],
      "metadata": {
        "id": "RlujoflpYJsG"
      },
      "execution_count": null,
      "outputs": []
    },
    {
      "cell_type": "code",
      "source": [
        "# 1.F How can you open a file for writing in Python and write a string to it?\n",
        "with open(\"india.txt\", \"w\") as file:\n",
        "    file.write(\"india won champion trophy\")\n"
      ],
      "metadata": {
        "id": "JWrePOjHYK2s"
      },
      "execution_count": null,
      "outputs": []
    },
    {
      "cell_type": "code",
      "source": [
        "# 2.Write a Python program to read the contents of a file and print each line.\n",
        "with open(\"india.txt\", \"r\") as file:\n",
        "    for line in file:\n",
        "        print(line.strip())\n",
        "\n",
        "\n"
      ],
      "metadata": {
        "colab": {
          "base_uri": "https://localhost:8080/"
        },
        "id": "sZeARBk-YK0a",
        "outputId": "5d4c8bec-3286-49d4-b615-d4b7fe702eaa"
      },
      "execution_count": null,
      "outputs": [
        {
          "output_type": "stream",
          "name": "stdout",
          "text": [
            "india won champion trophy\n"
          ]
        }
      ]
    },
    {
      "cell_type": "code",
      "source": [
        "# 3. How would you handle a case where the file doesn't exist while trying to open it for reading.\n",
        "try:\n",
        "    with open(\"nonexistent.txt\", \"r\") as file:\n",
        "        content = file.read()\n",
        "        print(content)\n",
        "except FileNotFoundError:\n",
        "    print(\"error: the file does not exist.\")\n",
        "\n",
        "\n"
      ],
      "metadata": {
        "colab": {
          "base_uri": "https://localhost:8080/"
        },
        "id": "nCrsUgAzYKyC",
        "outputId": "e697cd42-2414-4c5f-e87a-6372d9d576fb"
      },
      "execution_count": null,
      "outputs": [
        {
          "output_type": "stream",
          "name": "stdout",
          "text": [
            "error: the file does not exist.\n"
          ]
        }
      ]
    },
    {
      "cell_type": "code",
      "source": [
        "# 4.  Write a Python script that reads from one file and writes its content to another file.\n",
        "with open(\"source.txt\", \"w\") as src:\n",
        "    src.write(\"namaste! Welcome to India.\")\n",
        "\n",
        "with open(\"source.txt\", \"r\") as src, open(\"destination.txt\", \"w\") as dest:\n",
        "    dest.write(src.read())"
      ],
      "metadata": {
        "id": "2KjLkw3hYKvZ"
      },
      "execution_count": null,
      "outputs": []
    },
    {
      "cell_type": "code",
      "source": [
        "# 5. How would you catch and handle division by zero error in Python?\n",
        "try:\n",
        "    result = 100 / 0\n",
        "except ZeroDivisionError:\n",
        "    print(\"error: division by zero is not allowed.\")\n",
        "\n"
      ],
      "metadata": {
        "colab": {
          "base_uri": "https://localhost:8080/"
        },
        "id": "EXjvnsK2YKtV",
        "outputId": "2c19f686-a674-4f01-fb1a-ce1f1d72c58f"
      },
      "execution_count": null,
      "outputs": [
        {
          "output_type": "stream",
          "name": "stdout",
          "text": [
            "error: division by zero is not allowed.\n"
          ]
        }
      ]
    },
    {
      "cell_type": "code",
      "source": [
        "# 6. Write a Python program that logs an error message to a log file when a division by zero exception occurs.\n",
        "logging.basicConfig(filename=\"errors.log\", level=logging.ERROR)\n",
        "try:\n",
        "    result = 100 / 0\n",
        "except ZeroDivisionError as e:\n",
        "    logging.error(\"division by zero occurred: %s\", e)\n",
        "\n"
      ],
      "metadata": {
        "colab": {
          "base_uri": "https://localhost:8080/"
        },
        "id": "skjqUKecYKqb",
        "outputId": "af1981ba-0cdb-4cb2-b61f-fd2f0df1d1ee"
      },
      "execution_count": null,
      "outputs": [
        {
          "output_type": "stream",
          "name": "stderr",
          "text": [
            "ERROR:root:division by zero occurred: division by zero\n"
          ]
        }
      ]
    },
    {
      "cell_type": "code",
      "source": [
        "# 7.How do you log information at different levels (INFO, ERROR, WARNING) in Python using the logging module.\n",
        "logging.basicConfig(filename=\"app.log\", level=logging.DEBUG)\n",
        "logging.info(\"this is an INFO message.\")\n",
        "logging.warning(\"this is a WARNING message.\")\n",
        "logging.error(\"this is an ERROR message.\")"
      ],
      "metadata": {
        "colab": {
          "base_uri": "https://localhost:8080/"
        },
        "id": "aBRnUxKTYKoE",
        "outputId": "74282078-45ac-4478-ee9b-0df5f9c6c7c3"
      },
      "execution_count": null,
      "outputs": [
        {
          "output_type": "stream",
          "name": "stderr",
          "text": [
            "WARNING:root:this is a WARNING message.\n",
            "ERROR:root:this is an ERROR message.\n"
          ]
        }
      ]
    },
    {
      "cell_type": "code",
      "source": [
        "# 8.Write a program to handle a file opening error using exception handling.\n",
        "try:\n",
        "    with open(\"unknown.txt\", \"r\") as file:\n",
        "        print(file.read())\n",
        "except FileNotFoundError:\n",
        "    print(\"error: The file was not found.\")\n"
      ],
      "metadata": {
        "colab": {
          "base_uri": "https://localhost:8080/"
        },
        "id": "faRZDMFfYKla",
        "outputId": "bb5d6f31-af06-40d6-9db6-c720c7ec74e7"
      },
      "execution_count": null,
      "outputs": [
        {
          "output_type": "stream",
          "name": "stdout",
          "text": [
            "error: The file was not found.\n"
          ]
        }
      ]
    },
    {
      "cell_type": "code",
      "source": [
        "# 9.How can you read a file line by line and store its content in a list in Python.\n",
        "with open(\"cities.txt\", \"w\") as file:\n",
        "    file.write(\"delhi\\nmumbai\\nbangalore\")\n",
        "\n",
        "with open(\"cities.txt\", \"r\") as file:\n",
        "    lines = [line.strip() for line in file]\n",
        "print(lines)\n",
        "\n",
        "\n"
      ],
      "metadata": {
        "colab": {
          "base_uri": "https://localhost:8080/"
        },
        "id": "48foUyvKYKi5",
        "outputId": "8f3c3df3-3238-4f42-b836-e99a879e5c28"
      },
      "execution_count": null,
      "outputs": [
        {
          "output_type": "stream",
          "name": "stdout",
          "text": [
            "['delhi', 'mumbai', 'bangalore']\n"
          ]
        }
      ]
    },
    {
      "cell_type": "code",
      "source": [
        "# 10.How can you append data to an existing file in Python.\n",
        "with open(\"india.txt\", \"a\") as file:\n",
        "    file.write(\"\\ndelhi is the capital of India.\")\n",
        "with open('india.txt','r') as file:\n",
        "    print(file.read())"
      ],
      "metadata": {
        "colab": {
          "base_uri": "https://localhost:8080/"
        },
        "id": "WDeu1BZhYKgZ",
        "outputId": "04241728-7a8e-4eeb-e4f1-2a6e34432b8c"
      },
      "execution_count": null,
      "outputs": [
        {
          "output_type": "stream",
          "name": "stdout",
          "text": [
            "\n",
            "delhi is the capital of India.\n"
          ]
        }
      ]
    },
    {
      "cell_type": "code",
      "source": [
        "# 11.F Write a Python program that uses a try-except block to handle an error when attempting to access a dictionary key that doesn't exist.\n",
        "data = {\"name\": \"Kishan\", \"city\": \"Mumbai\"}\n",
        "try:\n",
        "    print(data[\"age\"])\n",
        "except KeyError:\n",
        "    print(\"error: key does not exist.\")\n",
        "\n"
      ],
      "metadata": {
        "colab": {
          "base_uri": "https://localhost:8080/"
        },
        "id": "E4iSAWUzYKeG",
        "outputId": "d725dbb8-982e-4f2a-a228-dba70a80e3ea"
      },
      "execution_count": null,
      "outputs": [
        {
          "output_type": "stream",
          "name": "stdout",
          "text": [
            "error: key does not exist.\n"
          ]
        }
      ]
    },
    {
      "cell_type": "code",
      "source": [
        "# 12.Write a program that demonstrates using multiple except blocks to handle different types of exceptions.\n",
        "try:\n",
        "    result = 100 / 0\n",
        "except ZeroDivisionError:\n",
        "    print(\"cannot divide by zero.\")\n",
        "except ValueError:\n",
        "    print(\"invalid value entered.\")\n",
        "\n"
      ],
      "metadata": {
        "colab": {
          "base_uri": "https://localhost:8080/"
        },
        "id": "rTkX5l2-YKbW",
        "outputId": "82fc7a95-3e80-4822-b7b4-4d0f7c0fb41a"
      },
      "execution_count": null,
      "outputs": [
        {
          "output_type": "stream",
          "name": "stdout",
          "text": [
            "cannot divide by zero.\n"
          ]
        }
      ]
    },
    {
      "cell_type": "code",
      "source": [
        "# 13. F How would you check if a file exists before attempting to read it in Python.\n",
        "if os.path.exists(\"sample.txt\"):\n",
        "    with open(\"sample.txt\", \"r\") as file:\n",
        "        print(file.read())\n",
        "else:\n",
        "    print(\"file does not exist.\")\n",
        "\n",
        "\n"
      ],
      "metadata": {
        "colab": {
          "base_uri": "https://localhost:8080/"
        },
        "id": "5Kluk51LYKY3",
        "outputId": "a4a83565-064f-4488-9ad0-d5f921227166"
      },
      "execution_count": null,
      "outputs": [
        {
          "output_type": "stream",
          "name": "stdout",
          "text": [
            "file does not exist.\n"
          ]
        }
      ]
    },
    {
      "cell_type": "code",
      "source": [
        "# 14.F Write a program that uses the logging module to log both informational and error messages.\n",
        "logging.basicConfig(filename=\"logfile.log\", level=logging.DEBUG)\n",
        "logging.info(\"Program started.\")\n",
        "try:\n",
        "    result = 10 / 0\n",
        "except ZeroDivisionError:\n",
        "    logging.error(\"division by zero error.\")"
      ],
      "metadata": {
        "colab": {
          "base_uri": "https://localhost:8080/"
        },
        "id": "huq_OjsVYKWJ",
        "outputId": "c7acb1bd-f6b2-4ee2-b5cb-9dbfbc5430c8"
      },
      "execution_count": null,
      "outputs": [
        {
          "output_type": "stream",
          "name": "stderr",
          "text": [
            "ERROR:root:division by zero error.\n"
          ]
        }
      ]
    },
    {
      "cell_type": "code",
      "source": [
        "# 15. Write a Python program that prints the content of a file and handles the case when the file is empty.\n",
        "filename = \"test.txt\"\n",
        "if os.path.exists(filename) and os.stat(filename).st_size > 0:\n",
        "    with open(filename, \"r\") as file:\n",
        "        print(file.read())\n",
        "else:\n",
        "    print(\"file is empty or does not exist.\")\n",
        "\n",
        "\n"
      ],
      "metadata": {
        "colab": {
          "base_uri": "https://localhost:8080/"
        },
        "id": "4G73bXXfYKTd",
        "outputId": "8a1c3a0b-39a9-4d8b-9379-afb645469a19"
      },
      "execution_count": null,
      "outputs": [
        {
          "output_type": "stream",
          "name": "stdout",
          "text": [
            "file is empty or does not exist.\n"
          ]
        }
      ]
    },
    {
      "cell_type": "code",
      "source": [
        "# 16.F Demonstrate how to use memory profiling to check the memory usage of a small program?\n",
        "from memory_profiler import profile\n",
        "@profile\n",
        "def test_function():\n",
        "    nums = [i for i in range(100000)]\n",
        "    return sum(nums)\n",
        "test_function()\n",
        "\n"
      ],
      "metadata": {
        "id": "suiS5X64YKQS"
      },
      "execution_count": null,
      "outputs": []
    },
    {
      "cell_type": "code",
      "source": [
        "# 17.  Write a Python program to create and write a list of numbers to a file, one number per line.\n",
        "with open(\"numbers.txt\", \"w\") as file:\n",
        "    for i in range(1, 11):\n",
        "        file.write(f\"{i}\\n\")"
      ],
      "metadata": {
        "id": "y7iTly5mcm8u"
      },
      "execution_count": null,
      "outputs": []
    },
    {
      "cell_type": "code",
      "source": [
        "# 18. How would you implement a basic logging setup that logs to a file with rotation after 1MB ?\n",
        "from logging.handlers import RotatingFileHandler\n",
        "handler = RotatingFileHandler(\"rotating.log\", maxBytes=1024, backupCount=3)\n",
        "logging.basicConfig(handlers=[handler], level=logging.INFO)\n",
        "logging.info(\"this is a rotating log entry.\")"
      ],
      "metadata": {
        "id": "9oRrJrljZbKw"
      },
      "execution_count": null,
      "outputs": []
    },
    {
      "cell_type": "code",
      "source": [
        "# 19. Write a program that handles both IndexError and KeyError using a try-except block?\n",
        "data = {\"name\": \"Kishan\"}\n",
        "try:\n",
        "    print(data[\"age\"])\n",
        "    lst = [1, 2, 3]\n",
        "    print(lst[5])\n",
        "except (IndexError, KeyError):\n",
        "    print(\"index or key error occurred.\")"
      ],
      "metadata": {
        "colab": {
          "base_uri": "https://localhost:8080/"
        },
        "id": "SWy6X-f1ZbE_",
        "outputId": "5f742aee-cf7b-4642-d28e-e6892183355c"
      },
      "execution_count": null,
      "outputs": [
        {
          "output_type": "stream",
          "name": "stdout",
          "text": [
            "index or key error occurred.\n"
          ]
        }
      ]
    },
    {
      "cell_type": "code",
      "source": [
        "# 20.would you open a file and read its contents using a context manager in Python?\n",
        "with open(\"data.txt\", \"w\") as file:\n",
        "    file.write(\"welcome to python.\")\n",
        "\n",
        "with open(\"data.txt\", \"r\") as file:\n",
        "    content = file.read()\n",
        "print(content)"
      ],
      "metadata": {
        "colab": {
          "base_uri": "https://localhost:8080/"
        },
        "id": "-pFlAgMjZbC1",
        "outputId": "2bb886b2-e5cf-42f1-f85c-e11b0641b573"
      },
      "execution_count": null,
      "outputs": [
        {
          "output_type": "stream",
          "name": "stdout",
          "text": [
            "welcome to python.\n"
          ]
        }
      ]
    },
    {
      "cell_type": "code",
      "source": [
        "# 21.Write a Python program that reads a file and prints the number of occurrences of a specific word?\n",
        "word_to_count = \"India\"\n",
        "with open(\"india.txt\", \"r\") as file:\n",
        "    text = file.read()\n",
        "print(f\"The word '{word_to_count}' appears {text.count(word_to_count)} times.\")\n",
        "\n"
      ],
      "metadata": {
        "colab": {
          "base_uri": "https://localhost:8080/"
        },
        "id": "A0uKpWUnZa_w",
        "outputId": "d0b62281-55b8-480b-a3e0-3c17fc987174"
      },
      "execution_count": null,
      "outputs": [
        {
          "output_type": "stream",
          "name": "stdout",
          "text": [
            "The word 'India' appears 3 times.\n"
          ]
        }
      ]
    },
    {
      "cell_type": "code",
      "source": [
        "# 22. ow can you check if a file is empty before attempting to read its contents?\n",
        "filename = \"empty.txt\"\n",
        "if os.path.exists(filename) and os.stat(filename).st_size > 0:\n",
        "    with open(filename, \"r\") as file:\n",
        "        print(file.read())\n",
        "else:\n",
        "    print(\"file is empty.\")\n",
        "\n"
      ],
      "metadata": {
        "colab": {
          "base_uri": "https://localhost:8080/"
        },
        "id": "wYXLTU2JZk2u",
        "outputId": "ee2c9d58-e772-4783-c298-76b384b20973"
      },
      "execution_count": null,
      "outputs": [
        {
          "output_type": "stream",
          "name": "stdout",
          "text": [
            "file is empty.\n"
          ]
        }
      ]
    },
    {
      "cell_type": "code",
      "source": [
        "# 23.Write a Python program that writes to a log file when an error occurs during file handling.\n",
        "try:\n",
        "    with open(\"unknown.txt\", \"r\") as file:\n",
        "        print(file.read())\n",
        "except FileNotFoundError as e:\n",
        "    logging.error(f\"file handling error: {e}\")"
      ],
      "metadata": {
        "colab": {
          "base_uri": "https://localhost:8080/"
        },
        "id": "jvhCSzBuZk0K",
        "outputId": "2dd79429-e5e9-49b4-f9fe-4a315ac3978f"
      },
      "execution_count": null,
      "outputs": [
        {
          "output_type": "stream",
          "name": "stderr",
          "text": [
            "ERROR:root:file handling error: [Errno 2] No such file or directory: 'unknown.txt'\n"
          ]
        }
      ]
    }
  ]
}