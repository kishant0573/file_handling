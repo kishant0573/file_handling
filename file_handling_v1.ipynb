{
  "nbformat": 4,
  "nbformat_minor": 0,
  "metadata": {
    "colab": {
      "provenance": []
    },
    "kernelspec": {
      "name": "python3",
      "display_name": "Python 3"
    },
    "language_info": {
      "name": "python"
    }
  },
  "cells": [
    {
      "cell_type": "markdown",
      "source": [
        "# theory question"
      ],
      "metadata": {
        "id": "rNuWRnGJcV02"
      }
    },
    {
      "cell_type": "markdown",
      "source": [
        "#1.what is the difference between interpreted and compiled languages?\n",
        "\n",
        "interpreted languages execute code line by line, making debugging easier but slower in execution. examples include python and javascript. compiled languages convert the entire code into machine language before execution, making them faster but harder to debug. examples include c and c++.\n",
        "\n",
        "**example:**\n",
        "```python\n",
        "# interpreted language example\n",
        "def greet():\n",
        "    print(\"hello, world!\")\n",
        "greet()\n",
        "```\n",
        "\n",
        "```c\n",
        "// compiled language example\n",
        "#include <stdio.h>\n",
        "int main() {\n",
        "    printf(\"hello, world!\\n\");\n",
        "    return 0;\n",
        "}\n",
        "```\n",
        "\n",
        "output:\n",
        "```\n",
        "hello, world!\n",
        "```\n",
        "\n",
        "---\n",
        "\n",
        "#2. what is exception handling in python?\n",
        "\n",
        "exception handling in python helps manage runtime errors, ensuring the program doesn't crash. it uses `try`, `except`, `finally`, and `else` blocks to handle exceptions gracefully.\n",
        "\n",
        "**example:**\n",
        "```python\n",
        "try:\n",
        "    x = 10 / 0\n",
        "except ZeroDivisionError:\n",
        "    print(\"division by zero is not allowed\")\n",
        "```\n",
        "\n",
        "**output:**\n",
        "```\n",
        "division by zero is not allowed\n",
        "```\n",
        "\n",
        "---\n",
        "\n",
        "#3.what is the purpose of the finally block in exception handling?\n",
        "\n",
        "`finally` ensures code runs no matter what, even if an exception occurs. it is commonly used for cleanup operations like closing files or database connections.\n",
        "\n",
        "**example:**\n",
        "```python\n",
        "try:\n",
        "    f = open(\"file.txt\", \"r\")\n",
        "except FileNotFoundError:\n",
        "    print(\"file not found\")\n",
        "finally:\n",
        "    print(\"execution completed\")\n",
        "```\n",
        "\n",
        "**output:**\n",
        "```\n",
        "file not found\n",
        "execution completed\n",
        "```\n",
        "\n",
        "---\n",
        "\n",
        "#4.what is logging in python?\n",
        "\n",
        "logging helps track events in a program and is useful for debugging and monitoring. the `logging` module provides various logging levels like debug, info, warning, error, and critical.\n",
        "\n",
        "**example:**\n",
        "```python\n",
        "import logging\n",
        "logging.basicConfig(level=logging.INFO)\n",
        "logging.info(\"this is an info message\")\n",
        "```\n",
        "\n",
        "**output:**\n",
        "```\n",
        "INFO:root:this is an info message\n",
        "```\n",
        "\n",
        "---\n",
        "\n",
        "#5.what is the significance of the __del__ method in python?\n",
        "\n",
        "`__del__` is a destructor method called when an object is deleted or goes out of scope. it helps in resource management like closing files or releasing memory.\n",
        "\n",
        "**example:**\n",
        "```python\n",
        "class Demo:\n",
        "    def __del__(self):\n",
        "        print(\"object is being deleted\")\n",
        "\n",
        "obj = Demo()\n",
        "del obj\n",
        "```\n",
        "\n",
        "**output:**\n",
        "```\n",
        "object is being deleted\n",
        "```\n",
        "\n",
        "---\n",
        "\n",
        "#6.what is the difference between import and from ... import in python?\n",
        "\n",
        "- `import module_name` imports the entire module, requiring `module_name.function()` to access functions.\n",
        "- `from module_name import function_name` imports only specific functions, allowing direct use.\n",
        "\n",
        "**example:**\n",
        "```python\n",
        "import math\n",
        "print(math.sqrt(16))\n",
        "\n",
        "from math import sqrt\n",
        "print(sqrt(16))\n",
        "```\n",
        "\n",
        "**output:**\n",
        "```\n",
        "4.0\n",
        "4.0\n",
        "```\n",
        "\n",
        "---\n",
        "\n",
        "#7.how can you handle multiple exceptions in python?\n",
        "\n",
        "use multiple `except` blocks or a single `except` with a tuple.\n",
        "\n",
        "**example:**\n",
        "```python\n",
        "try:\n",
        "    x = int(\"hello\")\n",
        "except (ValueError, TypeError):\n",
        "    print(\"invalid input\")\n",
        "```\n",
        "\n",
        "**output:**\n",
        "```\n",
        "invalid input\n",
        "```\n",
        "\n",
        "---\n",
        "\n",
        "#8.what is the purpose of the with statement when handling files in python?\n",
        "\n",
        "`with` ensures proper file handling by automatically closing the file after execution.\n",
        "\n",
        "**example:**\n",
        "```python\n",
        "with open(\"data.txt\", \"r\") as file:\n",
        "    content = file.read()\n",
        "print(\"file read successfully\")\n",
        "```\n",
        "\n",
        "---\n",
        "\n",
        "#9.what is the difference between multithreading and multiprocessing?\n",
        "\n",
        "- **multithreading**: multiple threads within the same process share memory.\n",
        "- **multiprocessing**: multiple processes run independently, each with its own memory.\n",
        "\n",
        "**example:**\n",
        "```python\n",
        "from threading import Thread\n",
        "from multiprocessing import Process\n",
        "\n",
        "def print_message():\n",
        "    print(\"hello from thread or process\")\n",
        "\n",
        "thread = Thread(target=print_message)\n",
        "process = Process(target=print_message)\n",
        "thread.start()\n",
        "process.start()\n",
        "```\n",
        "\n",
        "---\n",
        "\n",
        "#10.what are the advantages of using logging in a program?\n",
        "\n",
        "- helps debug issues\n",
        "- provides a record of events\n",
        "- can store logs in files for later analysis\n",
        "- allows different logging levels\n",
        "\n",
        "---\n",
        "\n",
        "# 11. What is memory management in Python?\n",
        "\n",
        "Memory management in Python is handled automatically by the garbage collector. It takes care of allocating and deallocating memory for objects, ensuring that the program runs efficiently without manual intervention. Python uses a combination of **reference counting** and a **cyclic garbage collector** to free up memory occupied by objects that are no longer needed.  \n",
        "\n",
        "---  \n",
        "\n",
        "# 12. What are the basic steps involved in exception handling in Python?  \n",
        "\n",
        "Exception handling in Python helps prevent programs from crashing when errors occur. The four main steps involved are:  \n",
        "\n",
        "1. **Use `try` block** – This contains the code that might raise an exception.  \n",
        "2. **Use `except` block** – This handles the exception if it occurs.  \n",
        "3. **Use `else` block (optional)** – Runs if no exception is raised in the `try` block.  \n",
        "4. **Use `finally` block** – Runs code that needs to execute regardless of an exception, such as cleanup operations.  \n",
        "\n",
        "### **Example:**\n",
        "```python\n",
        "try:\n",
        "    num = int(input(\"Enter a number: \"))  # Code that may raise an exception\n",
        "    result = 10 / num  \n",
        "except ZeroDivisionError:\n",
        "    print(\"Error: Division by zero is not allowed.\")  # Handling specific exception\n",
        "except ValueError:\n",
        "    print(\"Error: Invalid input. Please enter a valid number.\")  \n",
        "else:\n",
        "    print(\"Result:\", result)  # Executes if no exception occurs\n",
        "finally:\n",
        "    print(\"Execution completed.\")  # Runs whether or not an exception occurs\n",
        "\n",
        "```\n",
        "---\n",
        "\n",
        "#13.why is memory management important in python?\n",
        "\n",
        "Memory management is crucial in Python because it:\n",
        "\n",
        "    -Prevents memory leaks by automatically freeing unused memory.\n",
        "    -Optimizes performance by ensuring that memory is efficiently used.\n",
        "    -Reduces manual intervention since Python’s garbage collector handles most memory-related tasks.\n",
        "    -Ensures system stability, especially in large applications where memory leaks could cause crashes.\n",
        "\n",
        "\n",
        "---\n",
        "\n",
        "#14.what is the role of try and except in exception handling?\n",
        "\n",
        "`try` and `except` blocks are used to handle exceptions and prevent program crashes.\n",
        "\n",
        "    -the `try` block contains the code that may cause an error.\n",
        "    -the `except` block catches and handles the error when it occurs.\n",
        "\n",
        "```python\n",
        "try:\n",
        "    x = 5 / 0  \n",
        "except ZeroDivisionError:\n",
        "    print(\"Cannot divide by zero!\")  \n",
        "```\n",
        "---\n",
        "\n",
        "#15.how does python's garbage collection system work?\n",
        "\n",
        "python garbage collection system automatically manages memory allocation and deallocation using two key mechanisms:\n",
        "\n",
        "    -Reference Counting – Every object in Python has a reference count. When an object’s reference count drops to zero, it is immediately deleted.\n",
        "    -Cyclic Garbage Collector – Detects and removes circular references (where objects refer to each other but are no longer needed).\n",
        "\n",
        "---\n",
        "\n",
        "#16.what is the purpose of the else block in exception handling?\n",
        "\n",
        "`else` executes code only if no exception occurs in the `try` block.\n",
        "\n",
        "**example:**\n",
        "```python\n",
        "try:\n",
        "    num = int(input(\"enter a number: \"))\n",
        "except ValueError:\n",
        "    print(\"invalid input\")\n",
        "else:\n",
        "    print(\"valid number\")\n",
        "```\n",
        "\n",
        "---\n",
        "\n",
        "#17. What are the common logging levels in Python?\n",
        "\n",
        "Python provides five standard logging levels:\n",
        "\n",
        "- DEBUG – Used for detailed information, typically useful for diagnosing - problems during development.\n",
        "-INFO – Used to confirm that things are working as expected.\n",
        "-WARNING – Indicates a potential issue that does not prevent the program from running but should be looked into.\n",
        "-ERROR – Indicates a problem that prevents part of the program from functioning correctly.\n",
        "-CRITICAL – Represents serious errors that may cause the entire application to crash.\n",
        "---\n",
        "\n",
        "#18.what is the importance of closing a file in python?\n",
        "\n",
        "closing a file is important because it ensures that system resources like memory and file handles are released properly. If a file is not closed after use, it can lead to memory leaks, file corruption, or issues with accessing the file from other programs. Using the close() method or a with open() statement ensures that files are closed automatically.\n",
        "\n",
        "---\n",
        "\n",
        "#19.what is the difference between file.read() and file.readline() in python?\n",
        "\n",
        "- `file.read()` reads the entire file.\n",
        "- `file.readline()` reads only one line at a time.\n",
        "\n",
        "---\n",
        "\n",
        "#20.how do you raise an exception manually in python?\n",
        "\n",
        "use the `raise` keyword.\n",
        "\n",
        "**example:**\n",
        "```python\n",
        "raise ValueError(\"invalid value\")\n",
        "```\n",
        "\n",
        "**output:**\n",
        "```\n",
        "ValueError: invalid value\n",
        "```\n",
        "\n",
        "---\n",
        "\n",
        "#21.why is it important to use multithreading in certain applications?\n",
        "\n",
        "mßultithreading is useful in applications that involve multiple tasks that can run concurrently, especially for I/O-bound operations like file handling, network communication, and GUI applications. By using multiple threads, a program can continue executing other tasks while waiting for input/output operations to complete, improving overall responsiveness and efficiency. However, due to Python’s Global Interpreter Lock (GIL), multithreading is not ideal for CPU-bound tasks, where multiprocessing is a better choice.\n",
        "\n"
      ],
      "metadata": {
        "id": "Ld81XHH_df5j"
      }
    },
    {
      "cell_type": "markdown",
      "source": [
        "# Practical Question"
      ],
      "metadata": {
        "id": "hoZGR6Q3YEsm"
      }
    },
    {
      "cell_type": "code",
      "source": [
        "import logging\n",
        "import os"
      ],
      "metadata": {
        "id": "RlujoflpYJsG"
      },
      "execution_count": null,
      "outputs": []
    },
    {
      "cell_type": "code",
      "source": [
        "# 1. Open a File for Writing and Write a String\n",
        "with open(\"india.txt\", \"w\") as file:\n",
        "    file.write(\"india won champion trophy\")\n"
      ],
      "metadata": {
        "id": "JWrePOjHYK2s"
      },
      "execution_count": null,
      "outputs": []
    },
    {
      "cell_type": "code",
      "source": [
        "# 2. Read and Print Each Line of a File\n",
        "with open(\"india.txt\", \"r\") as file:\n",
        "    for line in file:\n",
        "        print(line.strip())\n",
        "\n",
        "\n"
      ],
      "metadata": {
        "colab": {
          "base_uri": "https://localhost:8080/"
        },
        "id": "sZeARBk-YK0a",
        "outputId": "b5271919-ce9f-4a26-cdb3-55d3aed92269"
      },
      "execution_count": null,
      "outputs": [
        {
          "output_type": "stream",
          "name": "stdout",
          "text": [
            "india won champion trophy\n"
          ]
        }
      ]
    },
    {
      "cell_type": "code",
      "source": [
        "# 3. Handle a Case Where the File Doesn't Exist\n",
        "try:\n",
        "    with open(\"nonexistent.txt\", \"r\") as file:\n",
        "        content = file.read()\n",
        "        print(content)\n",
        "except FileNotFoundError:\n",
        "    print(\"error: the file does not exist.\")\n",
        "\n",
        "\n"
      ],
      "metadata": {
        "colab": {
          "base_uri": "https://localhost:8080/"
        },
        "id": "nCrsUgAzYKyC",
        "outputId": "daef0b01-32ab-43e3-b00a-47f42b4f6ddb"
      },
      "execution_count": null,
      "outputs": [
        {
          "output_type": "stream",
          "name": "stdout",
          "text": [
            "error: the file does not exist.\n"
          ]
        }
      ]
    },
    {
      "cell_type": "code",
      "source": [
        "# 4. Read from One File and Write to Another\n",
        "with open(\"source.txt\", \"w\") as src:\n",
        "    src.write(\"namaste! Welcome to India.\")\n",
        "\n",
        "with open(\"source.txt\", \"r\") as src, open(\"destination.txt\", \"w\") as dest:\n",
        "    dest.write(src.read())"
      ],
      "metadata": {
        "id": "2KjLkw3hYKvZ"
      },
      "execution_count": null,
      "outputs": []
    },
    {
      "cell_type": "code",
      "source": [
        "# 5. Handle Division by Zero Error\n",
        "try:\n",
        "    result = 100 / 0\n",
        "except ZeroDivisionError:\n",
        "    print(\"error: division by zero is not allowed.\")\n",
        "\n"
      ],
      "metadata": {
        "colab": {
          "base_uri": "https://localhost:8080/"
        },
        "id": "EXjvnsK2YKtV",
        "outputId": "62210084-fa28-4d47-f916-29da7fb32a2c"
      },
      "execution_count": null,
      "outputs": [
        {
          "output_type": "stream",
          "name": "stdout",
          "text": [
            "error: division by zero is not allowed.\n"
          ]
        }
      ]
    },
    {
      "cell_type": "code",
      "source": [
        "# 6. Log an Error Message for Division by Zero\n",
        "logging.basicConfig(filename=\"errors.log\", level=logging.ERROR)\n",
        "try:\n",
        "    result = 100 / 0\n",
        "except ZeroDivisionError as e:\n",
        "    logging.error(\"division by zero occurred: %s\", e)\n",
        "\n"
      ],
      "metadata": {
        "colab": {
          "base_uri": "https://localhost:8080/"
        },
        "id": "skjqUKecYKqb",
        "outputId": "b5b4884b-ca20-4763-b25a-f326a558db63"
      },
      "execution_count": null,
      "outputs": [
        {
          "output_type": "stream",
          "name": "stderr",
          "text": [
            "ERROR:root:division by zero occurred: division by zero\n"
          ]
        }
      ]
    },
    {
      "cell_type": "code",
      "source": [
        "# 7. Logging at Different Levels\n",
        "logging.basicConfig(filename=\"app.log\", level=logging.DEBUG)\n",
        "logging.info(\"this is an INFO message.\")\n",
        "logging.warning(\"this is a WARNING message.\")\n",
        "logging.error(\"this is an ERROR message.\")"
      ],
      "metadata": {
        "colab": {
          "base_uri": "https://localhost:8080/"
        },
        "id": "aBRnUxKTYKoE",
        "outputId": "3a8581e5-4fe3-473b-f84a-dad2331ce2d3"
      },
      "execution_count": null,
      "outputs": [
        {
          "output_type": "stream",
          "name": "stderr",
          "text": [
            "WARNING:root:this is a WARNING message.\n",
            "ERROR:root:this is an ERROR message.\n"
          ]
        }
      ]
    },
    {
      "cell_type": "code",
      "source": [
        "# 8. Handle File Opening Error\n",
        "try:\n",
        "    with open(\"unknown.txt\", \"r\") as file:\n",
        "        print(file.read())\n",
        "except FileNotFoundError:\n",
        "    print(\"error: The file was not found.\")\n"
      ],
      "metadata": {
        "colab": {
          "base_uri": "https://localhost:8080/"
        },
        "id": "faRZDMFfYKla",
        "outputId": "bb5d6f31-af06-40d6-9db6-c720c7ec74e7"
      },
      "execution_count": null,
      "outputs": [
        {
          "output_type": "stream",
          "name": "stdout",
          "text": [
            "error: The file was not found.\n"
          ]
        }
      ]
    },
    {
      "cell_type": "code",
      "source": [
        "# 9. Read File Line by Line and Store in a List\n",
        "with open(\"cities.txt\", \"w\") as file:\n",
        "    file.write(\"delhi\\nmumbai\\nbangalore\")\n",
        "\n",
        "with open(\"cities.txt\", \"r\") as file:\n",
        "    lines = [line.strip() for line in file]\n",
        "print(lines)\n",
        "\n",
        "\n"
      ],
      "metadata": {
        "colab": {
          "base_uri": "https://localhost:8080/"
        },
        "id": "48foUyvKYKi5",
        "outputId": "8f3c3df3-3238-4f42-b836-e99a879e5c28"
      },
      "execution_count": null,
      "outputs": [
        {
          "output_type": "stream",
          "name": "stdout",
          "text": [
            "['delhi', 'mumbai', 'bangalore']\n"
          ]
        }
      ]
    },
    {
      "cell_type": "code",
      "source": [
        "# 10. Append Data to an Existing File\n",
        "with open(\"india.txt\", \"a\") as file:\n",
        "    file.write(\"\\ndelhi is the capital of India.\")\n",
        "with open('india.txt','r') as file:\n",
        "    print(file.read())                                     #i executed it 3time that why it show 3 time."
      ],
      "metadata": {
        "colab": {
          "base_uri": "https://localhost:8080/"
        },
        "id": "WDeu1BZhYKgZ",
        "outputId": "309a45f4-629f-4807-a7d6-43922c2fd6a9"
      },
      "execution_count": null,
      "outputs": [
        {
          "output_type": "stream",
          "name": "stdout",
          "text": [
            "india won champion trophy\n",
            "delhi is the capital of India.\n",
            "delhi is the capital of India.\n",
            "delhi is the capital of India.\n"
          ]
        }
      ]
    },
    {
      "cell_type": "code",
      "source": [
        "# 11. Handle Dictionary Key Error\n",
        "data = {\"name\": \"Kishan\", \"city\": \"Mumbai\"}\n",
        "try:\n",
        "    print(data[\"age\"])\n",
        "except KeyError:\n",
        "    print(\"error: key does not exist.\")\n",
        "\n"
      ],
      "metadata": {
        "colab": {
          "base_uri": "https://localhost:8080/"
        },
        "id": "E4iSAWUzYKeG",
        "outputId": "84f5e0e8-76bb-4534-8d64-1108e8dcc778"
      },
      "execution_count": null,
      "outputs": [
        {
          "output_type": "stream",
          "name": "stdout",
          "text": [
            "error: key does not exist.\n"
          ]
        }
      ]
    },
    {
      "cell_type": "code",
      "source": [
        "# 12. Multiple Exception Handling\n",
        "try:\n",
        "    result = 100 / 0\n",
        "except ZeroDivisionError:\n",
        "    print(\"cannot divide by zero.\")\n",
        "except ValueError:\n",
        "    print(\"invalid value entered.\")\n",
        "\n"
      ],
      "metadata": {
        "colab": {
          "base_uri": "https://localhost:8080/"
        },
        "id": "rTkX5l2-YKbW",
        "outputId": "82fc7a95-3e80-4822-b7b4-4d0f7c0fb41a"
      },
      "execution_count": null,
      "outputs": [
        {
          "output_type": "stream",
          "name": "stdout",
          "text": [
            "cannot divide by zero.\n"
          ]
        }
      ]
    },
    {
      "cell_type": "code",
      "source": [
        "# 13. Check if a File Exists Before Reading\n",
        "if os.path.exists(\"sample.txt\"):\n",
        "    with open(\"sample.txt\", \"r\") as file:\n",
        "        print(file.read())\n",
        "else:\n",
        "    print(\"file does not exist.\")\n",
        "\n",
        "\n"
      ],
      "metadata": {
        "colab": {
          "base_uri": "https://localhost:8080/"
        },
        "id": "5Kluk51LYKY3",
        "outputId": "a4a83565-064f-4488-9ad0-d5f921227166"
      },
      "execution_count": null,
      "outputs": [
        {
          "output_type": "stream",
          "name": "stdout",
          "text": [
            "file does not exist.\n"
          ]
        }
      ]
    },
    {
      "cell_type": "code",
      "source": [
        "# 14. Log Info and Errors\n",
        "logging.basicConfig(filename=\"logfile.log\", level=logging.DEBUG)\n",
        "logging.info(\"Program started.\")\n",
        "try:\n",
        "    result = 10 / 0\n",
        "except ZeroDivisionError:\n",
        "    logging.error(\"division by zero error.\")"
      ],
      "metadata": {
        "colab": {
          "base_uri": "https://localhost:8080/"
        },
        "id": "huq_OjsVYKWJ",
        "outputId": "c7acb1bd-f6b2-4ee2-b5cb-9dbfbc5430c8"
      },
      "execution_count": null,
      "outputs": [
        {
          "output_type": "stream",
          "name": "stderr",
          "text": [
            "ERROR:root:division by zero error.\n"
          ]
        }
      ]
    },
    {
      "cell_type": "code",
      "source": [
        "# 15. Print File Content and Handle Empty File\n",
        "filename = \"test.txt\"\n",
        "if os.path.exists(filename) and os.stat(filename).st_size > 0:\n",
        "    with open(filename, \"r\") as file:\n",
        "        print(file.read())\n",
        "else:\n",
        "    print(\"file is empty or does not exist.\")\n",
        "\n",
        "\n"
      ],
      "metadata": {
        "colab": {
          "base_uri": "https://localhost:8080/"
        },
        "id": "4G73bXXfYKTd",
        "outputId": "bab239b6-0b9c-4c51-d86e-402091ea1b13"
      },
      "execution_count": null,
      "outputs": [
        {
          "output_type": "stream",
          "name": "stdout",
          "text": [
            "file is empty or does not exist.\n"
          ]
        }
      ]
    },
    {
      "cell_type": "code",
      "source": [
        "# 16. Memory Profiling\n",
        "from memory_profiler import profile\n",
        "@profile\n",
        "def test_function():\n",
        "    nums = [i for i in range(100000)]\n",
        "    return sum(nums)\n",
        "test_function()\n",
        "\n"
      ],
      "metadata": {
        "id": "suiS5X64YKQS"
      },
      "execution_count": null,
      "outputs": []
    },
    {
      "cell_type": "code",
      "source": [
        "# 17. Write Numbers to a File\n",
        "with open(\"numbers.txt\", \"w\") as file:\n",
        "    for i in range(1, 11):\n",
        "        file.write(f\"{i}\\n\")"
      ],
      "metadata": {
        "id": "y7iTly5mcm8u"
      },
      "execution_count": null,
      "outputs": []
    },
    {
      "cell_type": "code",
      "source": [
        "# 18. Rotating Log File Setup\n",
        "from logging.handlers import RotatingFileHandler\n",
        "handler = RotatingFileHandler(\"rotating.log\", maxBytes=1024, backupCount=3)\n",
        "logging.basicConfig(handlers=[handler], level=logging.INFO)\n",
        "logging.info(\"this is a rotating log entry.\")"
      ],
      "metadata": {
        "id": "9oRrJrljZbKw"
      },
      "execution_count": null,
      "outputs": []
    },
    {
      "cell_type": "code",
      "source": [
        "# 19. Handle Both IndexError and KeyError\n",
        "data = {\"name\": \"Kishan\"}\n",
        "try:\n",
        "    print(data[\"age\"])\n",
        "    lst = [1, 2, 3]\n",
        "    print(lst[5])\n",
        "except (IndexError, KeyError):\n",
        "    print(\"index or key error occurred.\")"
      ],
      "metadata": {
        "colab": {
          "base_uri": "https://localhost:8080/"
        },
        "id": "SWy6X-f1ZbE_",
        "outputId": "5f742aee-cf7b-4642-d28e-e6892183355c"
      },
      "execution_count": null,
      "outputs": [
        {
          "output_type": "stream",
          "name": "stdout",
          "text": [
            "index or key error occurred.\n"
          ]
        }
      ]
    },
    {
      "cell_type": "code",
      "source": [
        "# 20. Read File Using Context Manager\n",
        "with open(\"data.txt\", \"w\") as file:\n",
        "    file.write(\"welcome to python.\")\n",
        "\n",
        "with open(\"data.txt\", \"r\") as file:\n",
        "    content = file.read()\n",
        "print(content)"
      ],
      "metadata": {
        "colab": {
          "base_uri": "https://localhost:8080/"
        },
        "id": "-pFlAgMjZbC1",
        "outputId": "2bb886b2-e5cf-42f1-f85c-e11b0641b573"
      },
      "execution_count": null,
      "outputs": [
        {
          "output_type": "stream",
          "name": "stdout",
          "text": [
            "welcome to python.\n"
          ]
        }
      ]
    },
    {
      "cell_type": "code",
      "source": [
        "# 21. Count Word Occurrences in a File\n",
        "word_to_count = \"India\"\n",
        "with open(\"india.txt\", \"r\") as file:\n",
        "    text = file.read()\n",
        "print(f\"The word '{word_to_count}' appears {text.count(word_to_count)} times.\")\n",
        "\n"
      ],
      "metadata": {
        "colab": {
          "base_uri": "https://localhost:8080/"
        },
        "id": "A0uKpWUnZa_w",
        "outputId": "d0b62281-55b8-480b-a3e0-3c17fc987174"
      },
      "execution_count": null,
      "outputs": [
        {
          "output_type": "stream",
          "name": "stdout",
          "text": [
            "The word 'India' appears 3 times.\n"
          ]
        }
      ]
    },
    {
      "cell_type": "code",
      "source": [
        "# 22. Check If a File Is Empty Before Reading\n",
        "filename = \"empty.txt\"\n",
        "if os.path.exists(filename) and os.stat(filename).st_size > 0:\n",
        "    with open(filename, \"r\") as file:\n",
        "        print(file.read())\n",
        "else:\n",
        "    print(\"file is empty.\")\n",
        "\n"
      ],
      "metadata": {
        "colab": {
          "base_uri": "https://localhost:8080/"
        },
        "id": "wYXLTU2JZk2u",
        "outputId": "ee2c9d58-e772-4783-c298-76b384b20973"
      },
      "execution_count": null,
      "outputs": [
        {
          "output_type": "stream",
          "name": "stdout",
          "text": [
            "file is empty.\n"
          ]
        }
      ]
    },
    {
      "cell_type": "code",
      "source": [
        "# 23. Log Errors During File Handling\n",
        "try:\n",
        "    with open(\"unknown.txt\", \"r\") as file:\n",
        "        print(file.read())\n",
        "except FileNotFoundError as e:\n",
        "    logging.error(f\"File handling error: {e}\")"
      ],
      "metadata": {
        "colab": {
          "base_uri": "https://localhost:8080/"
        },
        "id": "jvhCSzBuZk0K",
        "outputId": "47a6c846-54de-4243-b423-2499390e860e"
      },
      "execution_count": null,
      "outputs": [
        {
          "output_type": "stream",
          "name": "stderr",
          "text": [
            "ERROR:root:File handling error: [Errno 2] No such file or directory: 'unknown.txt'\n"
          ]
        }
      ]
    }
  ]
}